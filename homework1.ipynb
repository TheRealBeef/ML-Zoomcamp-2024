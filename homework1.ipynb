{
 "cells": [
  {
   "metadata": {
    "ExecuteTime": {
     "end_time": "2024-09-21T20:08:39.308133Z",
     "start_time": "2024-09-21T20:08:39.306665Z"
    }
   },
   "cell_type": "code",
   "source": [
    "import pandas as pd\n",
    "import numpy as np"
   ],
   "id": "4c23266dbed5ffac",
   "outputs": [],
   "execution_count": 140
  },
  {
   "cell_type": "markdown",
   "id": "774b340ecac18de",
   "metadata": {},
   "source": [
    "### Q1. Pandas version\n",
    "---\n",
    "What's the version of Pandas that you installed?\n",
    "\n",
    "2.2.2"
   ]
  },
  {
   "cell_type": "code",
   "id": "initial_id",
   "metadata": {
    "ExecuteTime": {
     "end_time": "2024-09-21T20:08:39.353060Z",
     "start_time": "2024-09-21T20:08:39.351282Z"
    }
   },
   "source": "pd.__version__",
   "outputs": [
    {
     "data": {
      "text/plain": [
       "'2.2.2'"
      ]
     },
     "execution_count": 141,
     "metadata": {},
     "output_type": "execute_result"
    }
   ],
   "execution_count": 141
  },
  {
   "cell_type": "markdown",
   "id": "fefa2806c0a12e9c",
   "metadata": {},
   "source": [
    "### Getting the data \n",
    "---"
   ]
  },
  {
   "cell_type": "code",
   "id": "91cd785f7b5f16ad",
   "metadata": {
    "ExecuteTime": {
     "end_time": "2024-09-21T20:08:39.458847Z",
     "start_time": "2024-09-21T20:08:39.450039Z"
    }
   },
   "source": [
    "file = pd.read_csv('laptops.csv')\n",
    "file.head(2)"
   ],
   "outputs": [
    {
     "data": {
      "text/plain": [
       "                                                                        Laptop  \\\n",
       "0  ASUS ExpertBook B1 B1502CBA-EJ0436X Intel Core i5-1235U/8GB/512GB SSD/15.6\"   \n",
       "1                      Alurin Go Start Intel Celeron N4020/8GB/256GB SSD/15.6\"   \n",
       "\n",
       "  Status   Brand       Model            CPU  RAM  Storage Storage type  GPU  \\\n",
       "0    New    Asus  ExpertBook  Intel Core i5    8      512          SSD  NaN   \n",
       "1    New  Alurin          Go  Intel Celeron    8      256          SSD  NaN   \n",
       "\n",
       "   Screen Touch  Final Price  \n",
       "0    15.6    No       1009.0  \n",
       "1    15.6    No        299.0  "
      ],
      "text/html": [
       "<div>\n",
       "<style scoped>\n",
       "    .dataframe tbody tr th:only-of-type {\n",
       "        vertical-align: middle;\n",
       "    }\n",
       "\n",
       "    .dataframe tbody tr th {\n",
       "        vertical-align: top;\n",
       "    }\n",
       "\n",
       "    .dataframe thead th {\n",
       "        text-align: right;\n",
       "    }\n",
       "</style>\n",
       "<table border=\"1\" class=\"dataframe\">\n",
       "  <thead>\n",
       "    <tr style=\"text-align: right;\">\n",
       "      <th></th>\n",
       "      <th>Laptop</th>\n",
       "      <th>Status</th>\n",
       "      <th>Brand</th>\n",
       "      <th>Model</th>\n",
       "      <th>CPU</th>\n",
       "      <th>RAM</th>\n",
       "      <th>Storage</th>\n",
       "      <th>Storage type</th>\n",
       "      <th>GPU</th>\n",
       "      <th>Screen</th>\n",
       "      <th>Touch</th>\n",
       "      <th>Final Price</th>\n",
       "    </tr>\n",
       "  </thead>\n",
       "  <tbody>\n",
       "    <tr>\n",
       "      <th>0</th>\n",
       "      <td>ASUS ExpertBook B1 B1502CBA-EJ0436X Intel Core i5-1235U/8GB/512GB SSD/15.6\"</td>\n",
       "      <td>New</td>\n",
       "      <td>Asus</td>\n",
       "      <td>ExpertBook</td>\n",
       "      <td>Intel Core i5</td>\n",
       "      <td>8</td>\n",
       "      <td>512</td>\n",
       "      <td>SSD</td>\n",
       "      <td>NaN</td>\n",
       "      <td>15.6</td>\n",
       "      <td>No</td>\n",
       "      <td>1009.0</td>\n",
       "    </tr>\n",
       "    <tr>\n",
       "      <th>1</th>\n",
       "      <td>Alurin Go Start Intel Celeron N4020/8GB/256GB SSD/15.6\"</td>\n",
       "      <td>New</td>\n",
       "      <td>Alurin</td>\n",
       "      <td>Go</td>\n",
       "      <td>Intel Celeron</td>\n",
       "      <td>8</td>\n",
       "      <td>256</td>\n",
       "      <td>SSD</td>\n",
       "      <td>NaN</td>\n",
       "      <td>15.6</td>\n",
       "      <td>No</td>\n",
       "      <td>299.0</td>\n",
       "    </tr>\n",
       "  </tbody>\n",
       "</table>\n",
       "</div>"
      ]
     },
     "execution_count": 142,
     "metadata": {},
     "output_type": "execute_result"
    }
   ],
   "execution_count": 142
  },
  {
   "cell_type": "markdown",
   "id": "b78c4f77-0d5f-4fc3-8e24-d2aef28d270e",
   "metadata": {
    "ExecuteTime": {
     "end_time": "2024-09-20T22:18:56.159208Z",
     "start_time": "2024-09-20T22:18:56.157995Z"
    }
   },
   "source": [
    "\n",
    "### Q2. Records count\n",
    "---\n",
    "How many records are in the dataset?\n",
    "\n",
    "2160"
   ]
  },
  {
   "cell_type": "code",
   "id": "ffccac04-ba54-4bc2-8376-56290780ebd3",
   "metadata": {
    "ExecuteTime": {
     "end_time": "2024-09-21T20:08:39.508266Z",
     "start_time": "2024-09-21T20:08:39.506691Z"
    }
   },
   "source": "file.index",
   "outputs": [
    {
     "data": {
      "text/plain": [
       "RangeIndex(start=0, stop=2160, step=1)"
      ]
     },
     "execution_count": 143,
     "metadata": {},
     "output_type": "execute_result"
    }
   ],
   "execution_count": 143
  },
  {
   "cell_type": "markdown",
   "id": "dc19340b71fa9a86",
   "metadata": {},
   "source": [
    "### Q3. Laptop brands\n",
    "---\n",
    "\n",
    "How many laptop brands are presented in the dataset?\n",
    "\n",
    "27"
   ]
  },
  {
   "metadata": {
    "ExecuteTime": {
     "end_time": "2024-09-21T20:08:39.606795Z",
     "start_time": "2024-09-21T20:08:39.604699Z"
    }
   },
   "cell_type": "code",
   "source": "file.Brand.nunique()",
   "id": "6a31cc477c258e6e",
   "outputs": [
    {
     "data": {
      "text/plain": [
       "27"
      ]
     },
     "execution_count": 144,
     "metadata": {},
     "output_type": "execute_result"
    }
   ],
   "execution_count": 144
  },
  {
   "metadata": {},
   "cell_type": "markdown",
   "source": [
    "### Q4. Missing values\n",
    "---\n",
    "How many columns in the dataset have missing values?\n",
    "\n",
    "3"
   ],
   "id": "603dcdaf91252fd9"
  },
  {
   "metadata": {
    "ExecuteTime": {
     "end_time": "2024-09-21T20:08:39.649895Z",
     "start_time": "2024-09-21T20:08:39.647279Z"
    }
   },
   "cell_type": "code",
   "source": [
    "# file.isnull().sum()\n",
    "(file.isnull().sum() > 0).sum()"
   ],
   "id": "556631819b2b21bc",
   "outputs": [
    {
     "data": {
      "text/plain": [
       "3"
      ]
     },
     "execution_count": 145,
     "metadata": {},
     "output_type": "execute_result"
    }
   ],
   "execution_count": 145
  },
  {
   "metadata": {},
   "cell_type": "markdown",
   "source": [
    "### Q5. Maximum final price\n",
    "---\n",
    "What's the maximum final price of Dell notebooks in the dataset?\n",
    "\n",
    "3936"
   ],
   "id": "148e190cddd90512"
  },
  {
   "metadata": {
    "ExecuteTime": {
     "end_time": "2024-09-21T20:08:39.696556Z",
     "start_time": "2024-09-21T20:08:39.694133Z"
    }
   },
   "cell_type": "code",
   "source": [
    "# file.groupby('Brand')['Final Price'].max()\n",
    "file[file.Brand == 'Dell']['Final Price'].max()"
   ],
   "id": "8e822efc5c47dc01",
   "outputs": [
    {
     "data": {
      "text/plain": [
       "3936.0"
      ]
     },
     "execution_count": 146,
     "metadata": {},
     "output_type": "execute_result"
    }
   ],
   "execution_count": 146
  },
  {
   "metadata": {},
   "cell_type": "markdown",
   "source": [
    "### Q6. Median value of Screen\n",
    "---\n",
    "1. Find the median value of `Screen` column in the dataset. - 15.6\n",
    "2. Next, calculate the most frequent value of the same `Screen` column. - 15.6\n",
    "3. Use `fillna` method to fill the missing values in `Screen` column with the most frequent value from the previous step.\n",
    "4. Now, calculate the median value of `Screen` once again.\n",
    "\n",
    "Has it changed?\n",
    "\n",
    "No\n",
    "\n",
    "\n"
   ],
   "id": "9d6c10d603e4c93a"
  },
  {
   "metadata": {
    "ExecuteTime": {
     "end_time": "2024-09-21T20:08:39.742767Z",
     "start_time": "2024-09-21T20:08:39.740581Z"
    }
   },
   "cell_type": "code",
   "source": [
    "# file.Screen.describe()\n",
    "file.Screen.median()"
   ],
   "id": "abd137f4816935f7",
   "outputs": [
    {
     "data": {
      "text/plain": [
       "15.6"
      ]
     },
     "execution_count": 147,
     "metadata": {},
     "output_type": "execute_result"
    }
   ],
   "execution_count": 147
  },
  {
   "metadata": {
    "ExecuteTime": {
     "end_time": "2024-09-21T20:08:39.788433Z",
     "start_time": "2024-09-21T20:08:39.786187Z"
    }
   },
   "cell_type": "code",
   "source": "file.Screen.mode()",
   "id": "f4fb087f91939882",
   "outputs": [
    {
     "data": {
      "text/plain": [
       "0    15.6\n",
       "Name: Screen, dtype: float64"
      ]
     },
     "execution_count": 148,
     "metadata": {},
     "output_type": "execute_result"
    }
   ],
   "execution_count": 148
  },
  {
   "metadata": {
    "ExecuteTime": {
     "end_time": "2024-09-21T20:08:39.845243Z",
     "start_time": "2024-09-21T20:08:39.843307Z"
    }
   },
   "cell_type": "code",
   "source": [
    "# file.Screen.isna().sum()\n",
    "file.Screen.fillna(15.6).median()"
   ],
   "id": "4bb4fcb4a1f7aa28",
   "outputs": [
    {
     "data": {
      "text/plain": [
       "15.6"
      ]
     },
     "execution_count": 149,
     "metadata": {},
     "output_type": "execute_result"
    }
   ],
   "execution_count": 149
  },
  {
   "metadata": {},
   "cell_type": "markdown",
   "source": [
    "### Q7. Sum of weights\n",
    "---\n",
    "1. Select all the \"Innjoo\" laptops from the dataset.\n",
    "2. Select only columns `RAM`, `Storage`, `Screen`.\n",
    "3. Get the underlying NumPy array. Let's call it `X`.\n",
    "4. Compute matrix-matrix multiplication between the transpose of `X` and `X`. To get the transpose, use `X.T`. Let's call the result `XTX`.\n",
    "5. Compute the inverse of `XTX`.\n",
    "6. Create an array `y` with values `[1100, 1300, 800, 900, 1000, 1100]`.\n",
    "7. Multiply the inverse of `XTX` with the transpose of `X`, and then multiply the result by `y`. Call the result `w`.\n",
    "8. What's the sum of all the elements of the result?\n",
    "\n",
    "91.30"
   ],
   "id": "b9239c1cd883f13e"
  },
  {
   "metadata": {
    "ExecuteTime": {
     "end_time": "2024-09-21T20:08:39.890161Z",
     "start_time": "2024-09-21T20:08:39.886595Z"
    }
   },
   "cell_type": "code",
   "source": [
    "# file[file.Brand == 'Innjoo']\n",
    "X = file[file.Brand == 'Innjoo'][['RAM','Storage','Screen']].values\n",
    "XTX = np.dot(X.T,X)\n",
    "XTX_inv = np.linalg.inv(XTX)\n",
    "y = np.array([1100, 1300, 800, 900, 1000, 1100])\n",
    "w = np.dot(np.dot(XTX_inv, X.T),y)\n",
    "w_sum = np.sum(w)\n",
    "w_sum"
   ],
   "id": "b72027005858684c",
   "outputs": [
    {
     "data": {
      "text/plain": [
       "91.29988062995588"
      ]
     },
     "execution_count": 150,
     "metadata": {},
     "output_type": "execute_result"
    }
   ],
   "execution_count": 150
  }
 ],
 "metadata": {
  "kernelspec": {
   "display_name": "Python 3 (ipykernel)",
   "language": "python",
   "name": "python3"
  },
  "language_info": {
   "codemirror_mode": {
    "name": "ipython",
    "version": 3
   },
   "file_extension": ".py",
   "mimetype": "text/x-python",
   "name": "python",
   "nbconvert_exporter": "python",
   "pygments_lexer": "ipython3",
   "version": "3.11.9"
  }
 },
 "nbformat": 4,
 "nbformat_minor": 5
}
