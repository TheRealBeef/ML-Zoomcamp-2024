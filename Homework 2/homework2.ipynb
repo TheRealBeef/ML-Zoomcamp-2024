{
 "cells": [
  {
   "cell_type": "code",
   "id": "4c23266dbed5ffac",
   "metadata": {
    "ExecuteTime": {
     "end_time": "2024-10-09T18:29:09.387242Z",
     "start_time": "2024-10-09T18:29:09.385795Z"
    }
   },
   "source": [
    "import pandas as pd\n",
    "import numpy as np"
   ],
   "outputs": [],
   "execution_count": 350
  },
  {
   "cell_type": "markdown",
   "id": "d0f4675794787a84",
   "metadata": {},
   "source": [
    "### Preparing the Dataset\n",
    "---\n",
    "Next, use only the following columns:\n",
    "\n",
    "    'ram',\n",
    "    \n",
    "    'storage',\n",
    "    \n",
    "    'screen',\n",
    "    \n",
    "    'final_price'\n",
    "    \n"
   ]
  },
  {
   "cell_type": "code",
   "id": "91cd785f7b5f16ad",
   "metadata": {
    "ExecuteTime": {
     "end_time": "2024-10-09T18:29:09.413147Z",
     "start_time": "2024-10-09T18:29:09.393608Z"
    }
   },
   "source": [
    "file = pd.read_csv('laptops.csv')\n",
    "file.columns = file.columns.str.lower().str.replace(' ', '_')\n",
    "file.head(2)"
   ],
   "outputs": [
    {
     "data": {
      "text/plain": [
       "                                              laptop status   brand  \\\n",
       "0  ASUS ExpertBook B1 B1502CBA-EJ0436X Intel Core...    New    Asus   \n",
       "1  Alurin Go Start Intel Celeron N4020/8GB/256GB ...    New  Alurin   \n",
       "\n",
       "        model            cpu  ram  storage storage_type  gpu  screen touch  \\\n",
       "0  ExpertBook  Intel Core i5    8      512          SSD  NaN    15.6    No   \n",
       "1          Go  Intel Celeron    8      256          SSD  NaN    15.6    No   \n",
       "\n",
       "   final_price  \n",
       "0       1009.0  \n",
       "1        299.0  "
      ],
      "text/html": [
       "<div>\n",
       "<style scoped>\n",
       "    .dataframe tbody tr th:only-of-type {\n",
       "        vertical-align: middle;\n",
       "    }\n",
       "\n",
       "    .dataframe tbody tr th {\n",
       "        vertical-align: top;\n",
       "    }\n",
       "\n",
       "    .dataframe thead th {\n",
       "        text-align: right;\n",
       "    }\n",
       "</style>\n",
       "<table border=\"1\" class=\"dataframe\">\n",
       "  <thead>\n",
       "    <tr style=\"text-align: right;\">\n",
       "      <th></th>\n",
       "      <th>laptop</th>\n",
       "      <th>status</th>\n",
       "      <th>brand</th>\n",
       "      <th>model</th>\n",
       "      <th>cpu</th>\n",
       "      <th>ram</th>\n",
       "      <th>storage</th>\n",
       "      <th>storage_type</th>\n",
       "      <th>gpu</th>\n",
       "      <th>screen</th>\n",
       "      <th>touch</th>\n",
       "      <th>final_price</th>\n",
       "    </tr>\n",
       "  </thead>\n",
       "  <tbody>\n",
       "    <tr>\n",
       "      <th>0</th>\n",
       "      <td>ASUS ExpertBook B1 B1502CBA-EJ0436X Intel Core...</td>\n",
       "      <td>New</td>\n",
       "      <td>Asus</td>\n",
       "      <td>ExpertBook</td>\n",
       "      <td>Intel Core i5</td>\n",
       "      <td>8</td>\n",
       "      <td>512</td>\n",
       "      <td>SSD</td>\n",
       "      <td>NaN</td>\n",
       "      <td>15.6</td>\n",
       "      <td>No</td>\n",
       "      <td>1009.0</td>\n",
       "    </tr>\n",
       "    <tr>\n",
       "      <th>1</th>\n",
       "      <td>Alurin Go Start Intel Celeron N4020/8GB/256GB ...</td>\n",
       "      <td>New</td>\n",
       "      <td>Alurin</td>\n",
       "      <td>Go</td>\n",
       "      <td>Intel Celeron</td>\n",
       "      <td>8</td>\n",
       "      <td>256</td>\n",
       "      <td>SSD</td>\n",
       "      <td>NaN</td>\n",
       "      <td>15.6</td>\n",
       "      <td>No</td>\n",
       "      <td>299.0</td>\n",
       "    </tr>\n",
       "  </tbody>\n",
       "</table>\n",
       "</div>"
      ]
     },
     "execution_count": 351,
     "metadata": {},
     "output_type": "execute_result"
    }
   ],
   "execution_count": 351
  },
  {
   "metadata": {
    "ExecuteTime": {
     "end_time": "2024-10-09T18:29:09.453529Z",
     "start_time": "2024-10-09T18:29:09.451480Z"
    }
   },
   "cell_type": "code",
   "source": "file.dtypes",
   "id": "a18ebf18b6ff4623",
   "outputs": [
    {
     "data": {
      "text/plain": [
       "laptop           object\n",
       "status           object\n",
       "brand            object\n",
       "model            object\n",
       "cpu              object\n",
       "ram               int64\n",
       "storage           int64\n",
       "storage_type     object\n",
       "gpu              object\n",
       "screen          float64\n",
       "touch            object\n",
       "final_price     float64\n",
       "dtype: object"
      ]
     },
     "execution_count": 352,
     "metadata": {},
     "output_type": "execute_result"
    }
   ],
   "execution_count": 352
  },
  {
   "metadata": {
    "ExecuteTime": {
     "end_time": "2024-10-09T18:29:09.511475Z",
     "start_time": "2024-10-09T18:29:09.505699Z"
    }
   },
   "cell_type": "code",
   "source": [
    "strings = list(file.dtypes[file.dtypes == 'object'].index)\n",
    "for col in strings:\n",
    "    file[col] = file[col].str.lower().str.replace(' ','_')\n",
    "# file.dtypes"
   ],
   "id": "cd892e3012c561a4",
   "outputs": [],
   "execution_count": 353
  },
  {
   "metadata": {
    "ExecuteTime": {
     "end_time": "2024-10-09T18:29:09.560816Z",
     "start_time": "2024-10-09T18:29:09.556256Z"
    }
   },
   "cell_type": "code",
   "source": [
    "for col in file.columns:\n",
    "        print(\"Column Name:       \", col)\n",
    "        print(\"Unique Contents:   \", file[col].unique())\n",
    "        print(\"Number of Unique:  \", file[col].nunique())\n",
    "        print()"
   ],
   "id": "b94a75afc563282",
   "outputs": [
    {
     "name": "stdout",
     "output_type": "stream",
     "text": [
      "Column Name:        laptop\n",
      "Unique Contents:    ['asus_expertbook_b1_b1502cba-ej0436x_intel_core_i5-1235u/8gb/512gb_ssd/15.6\"'\n",
      " 'alurin_go_start_intel_celeron_n4020/8gb/256gb_ssd/15.6\"'\n",
      " 'asus_expertbook_b1_b1502cba-ej0424x_intel_core_i3-1215u/8gb/256gb_ssd/15.6\"'\n",
      " ...\n",
      " 'razer_blade_17_fhd_360hz_intel_core_i7-11800h/32gb/1tb_ssd/rtx_3080/17.3\"'\n",
      " 'razer_book_13_intel_evo_core_i7-1165g7/16gb/1tb_ssd/13.4\"_táctil'\n",
      " 'razer_book_fhd+_intel_evo_core_i7-1165g7/16gb/256gb_ssd/13.4\"_táctil']\n",
      "Number of Unique:   2160\n",
      "\n",
      "Column Name:        status\n",
      "Unique Contents:    ['new' 'refurbished']\n",
      "Number of Unique:   2\n",
      "\n",
      "Column Name:        brand\n",
      "Unique Contents:    ['asus' 'alurin' 'msi' 'hp' 'lenovo' 'medion' 'acer' 'apple' 'razer'\n",
      " 'gigabyte' 'dell' 'lg' 'samsung' 'pccom' 'microsoft' 'primux' 'prixton'\n",
      " 'dynabook_toshiba' 'thomson' 'denver' 'deep_gaming' 'vant' 'innjoo'\n",
      " 'jetwing' 'millenium' 'realme' 'toshiba']\n",
      "Number of Unique:   27\n",
      "\n",
      "Column Name:        model\n",
      "Unique Contents:    ['expertbook' 'go' 'katana' '15s' 'crosshair' 'thinkpad' 'vivobook'\n",
      " 'akoya' 'victus' 'v15' 'thin' 'rog' 'ideapad' 'cyborg' 'm515ua' 'tuf'\n",
      " 'aspire' 'pavilion' 'vector' 'chromebook' 'omen' 'zenbook' 'creator'\n",
      " 'macbook_air' 'thinkbook' '250' 'modern' '255' 'macbook_pro' 'prestige'\n",
      " 'stealth' 'pulse' 'blade' 'legion' 'raider' 'probook' 'f515' 'g5'\n",
      " 'vostro' 'nitro' 'gram' 'e410' 'flex_advance' 'bravo' 'aero' 'yoga'\n",
      " 'galaxy_book' 'erazer' 'summit' 'ultra' 'extensa' 'flex' 'elitebook'\n",
      " 'revolt' 'latitude' 'envy' 'deputy' 'predator' 'surface_laptop' '14w'\n",
      " 'titan' 'ioxbook' 'aorus' 'swift' 'surface_go' 'netbook_pro'\n",
      " 'surface_pro' 'notebook' '470' 'spectre' 'alurin' 'satellite_pro' 'xps'\n",
      " 'conceptd' 'e510' 'beast' 'travelmate' 'portégé' 'tecra' 'neo'\n",
      " 'electronics' '14s' 'classmate_pro' '17' 'zbook' 'br' '300w' 'm515'\n",
      " 'nubian' '100e' 'moove' 'v14' 'proart' '100w' 'v17' 'f415ea' 'loq'\n",
      " 'macbook' 'leopard' 'u4' 'p1511' 'enduro' 'precision' 'g7' 'voom' 'n1510'\n",
      " 'ws63' 'aurelion' 'azir' 'book_prime' 'edge' 'book' 'f415' 'p1411' 'a7'\n",
      " '15u70n' 'v330' 'alpha' 'delta' 'gl65' 'gl75']\n",
      "Number of Unique:   121\n",
      "\n",
      "Column Name:        cpu\n",
      "Unique Contents:    ['intel_core_i5' 'intel_celeron' 'intel_core_i3' 'intel_core_i7'\n",
      " 'amd_ryzen_5' 'amd_ryzen_7' 'amd_ryzen_3' 'apple_m1' 'amd_athlon'\n",
      " 'apple_m2' 'amd_ryzen_9' 'intel_core_i9' 'amd_3020e'\n",
      " 'qualcomm_snapdragon_7' 'intel_evo_core_i7' 'intel_evo_core_i5'\n",
      " 'intel_pentium' 'apple_m2_pro' 'amd_radeon_5' 'intel_evo_core_i9'\n",
      " 'amd_3015e' 'apple_m1_pro' 'intel_core_m3' 'amd_radeon_9'\n",
      " 'mediatek_mt8183' 'amd_3015ce' 'qualcomm_snapdragon_8' 'microsoft_sq1']\n",
      "Number of Unique:   28\n",
      "\n",
      "Column Name:        ram\n",
      "Unique Contents:    [  8  16  32  12   4  64 128   6  40]\n",
      "Number of Unique:   9\n",
      "\n",
      "Column Name:        storage\n",
      "Unique Contents:    [ 512  256 1000   64  128   32    0 2000  500 4000 3000  240]\n",
      "Number of Unique:   12\n",
      "\n",
      "Column Name:        storage_type\n",
      "Unique Contents:    ['ssd' 'emmc' nan]\n",
      "Number of Unique:   2\n",
      "\n",
      "Column Name:        gpu\n",
      "Unique Contents:    [nan 'rtx_3050' 'rtx_4060' 'rtx_4050' 'rtx_3060' 'rtx_4070' 'rtx_2050'\n",
      " 'gtx_1650' 'rtx_3070' '610_m' 'rtx_4080' 'rx_6500m' 'mx_550' 'rtx_3080'\n",
      " 'rtx_4090' 'rx_7600s' 'a_370m' 'gtx_1660' 'rtx_a1000' 'rtx_3000' 't_1200'\n",
      " 'radeon_pro_5300m' 'a_730m' 'radeon_pro_rx_560x' 'rtx_a5500'\n",
      " 'radeon_pro_5500m' 't_500' 't_550' 'rtx_a3000' 't_2000' 't_600' 't_1000'\n",
      " 'radeon_rx_6600m' 'mx_330' 'rtx_a2000' 'mx_450' 'rtx_2070' 'rx_6800s'\n",
      " 'rtx_2080' 'rtx_2060' 'gtx_1050' 'mx_130' 'p_500' 'rx_6700m' 'gtx_1070']\n",
      "Number of Unique:   44\n",
      "\n",
      "Column Name:        screen\n",
      "Unique Contents:    [15.6  17.3  14.   16.1  13.3  16.   13.6  17.   15.3  14.5  13.4  14.2\n",
      " 18.   14.1  12.4  13.5  16.2  15.   11.6  13.   10.5  14.4    nan 12.3\n",
      " 15.4  12.5  10.1  10.95 12.   13.9 ]\n",
      "Number of Unique:   29\n",
      "\n",
      "Column Name:        touch\n",
      "Unique Contents:    ['no' 'yes']\n",
      "Number of Unique:   2\n",
      "\n",
      "Column Name:        final_price\n",
      "Unique Contents:    [1009.    299.    789.   ... 2699.99 1899.99 1699.99]\n",
      "Number of Unique:   1440\n",
      "\n"
     ]
    }
   ],
   "execution_count": 354
  },
  {
   "metadata": {
    "ExecuteTime": {
     "end_time": "2024-10-09T18:29:09.617112Z",
     "start_time": "2024-10-09T18:29:09.615271Z"
    }
   },
   "cell_type": "code",
   "source": [
    "import matplotlib.pyplot as plt\n",
    "import seaborn as sns\n",
    "\n",
    "%matplotlib inline"
   ],
   "id": "89b302f24899897c",
   "outputs": [],
   "execution_count": 355
  },
  {
   "metadata": {
    "ExecuteTime": {
     "end_time": "2024-10-09T18:29:09.741402Z",
     "start_time": "2024-10-09T18:29:09.673449Z"
    }
   },
   "cell_type": "code",
   "source": [
    "# sns.histplot(file.final_price[file.final_price < 6000], bins=50)\n",
    "sns.histplot(file.final_price, bins=50)\n",
    "plt.show()"
   ],
   "id": "95021ae3e302159",
   "outputs": [
    {
     "data": {
      "text/plain": [
       "<Figure size 640x480 with 1 Axes>"
      ],
      "image/png": "[encoded data removed]"
     },
     "metadata": {},
     "output_type": "display_data"
    }
   ],
   "execution_count": 356
  },
  {
   "metadata": {
    "ExecuteTime": {
     "end_time": "2024-10-09T18:29:09.826670Z",
     "start_time": "2024-10-09T18:29:09.758168Z"
    }
   },
   "cell_type": "code",
   "source": [
    "price_logarithmic = np.log1p(file.final_price)\n",
    "sns.histplot(price_logarithmic, bins=50)\n",
    "plt.show()"
   ],
   "id": "8152ffd54fac564e",
   "outputs": [
    {
     "data": {
      "text/plain": [
       "<Figure size 640x480 with 1 Axes>"
      ],
      "image/png": "[encoded data removed]"
     },
     "metadata": {},
     "output_type": "display_data"
    }
   ],
   "execution_count": 357
  },
  {
   "metadata": {
    "ExecuteTime": {
     "end_time": "2024-10-09T18:29:09.847105Z",
     "start_time": "2024-10-09T18:29:09.843797Z"
    }
   },
   "cell_type": "code",
   "source": [
    "# file.isnull().sum()\n",
    "file.columns[file.isnull().sum() > 0]"
   ],
   "id": "40c38a00cce9566e",
   "outputs": [
    {
     "data": {
      "text/plain": [
       "Index(['storage_type', 'gpu', 'screen'], dtype='object')"
      ]
     },
     "execution_count": 358,
     "metadata": {},
     "output_type": "execute_result"
    }
   ],
   "execution_count": 358
  },
  {
   "cell_type": "markdown",
   "id": "84f319a10c7c7a4c",
   "metadata": {},
   "source": [
    "\n",
    "### Q1. There's one column with missing values. What is it?\n",
    "---\n",
    "Screen"
   ]
  },
  {
   "metadata": {
    "ExecuteTime": {
     "end_time": "2024-10-09T18:29:09.891831Z",
     "start_time": "2024-10-09T18:29:09.889835Z"
    }
   },
   "cell_type": "code",
   "source": [
    "# file.ram.describe()\n",
    "file.ram.median()"
   ],
   "id": "114e9a29ed105ea2",
   "outputs": [
    {
     "data": {
      "text/plain": [
       "16.0"
      ]
     },
     "execution_count": 359,
     "metadata": {},
     "output_type": "execute_result"
    }
   ],
   "execution_count": 359
  },
  {
   "cell_type": "markdown",
   "id": "b78c4f77-0d5f-4fc3-8e24-d2aef28d270e",
   "metadata": {
    "ExecuteTime": {
     "end_time": "2024-09-20T22:18:56.159208Z",
     "start_time": "2024-09-20T22:18:56.157995Z"
    }
   },
   "source": [
    "\n",
    "### Q2. What's the median (50% percentile) for variable 'ram'?\n",
    "---\n",
    "16\n"
   ]
  },
  {
   "cell_type": "markdown",
   "id": "ad8e2e95-bc6b-499d-bd62-24f9daa42850",
   "metadata": {},
   "source": [
    "### Prepare and split the dataset\n",
    "---\n",
    "    Shuffle the dataset (the filtered one you created above), use seed 42.\n",
    "    Split your data in train/val/test sets, with 60%/20%/20% distribution.\n",
    "\n",
    "Use the same code as in the lectures"
   ]
  },
  {
   "metadata": {
    "ExecuteTime": {
     "end_time": "2024-10-09T18:29:09.941269Z",
     "start_time": "2024-10-09T18:29:09.936570Z"
    }
   },
   "cell_type": "code",
   "source": [
    "n = len(file)\n",
    "n_val = int(n * 0.2)\n",
    "n_test = int(n * 0.2)\n",
    "n_train = n - n_val - n_test\n",
    "print(\"Size of Dataframe and data adding up: \", n, n_val+n_test+n_train)\n",
    "print(\"Size of Test:          %d, Validate: %d, Train %d\" % (n_test, n_val, n_train))\n",
    "\n",
    "# Create shuffled indexes\n",
    "idx = np.arange(n)\n",
    "np.random.seed(42)\n",
    "np.random.shuffle(idx)\n",
    "idx\n",
    "\n",
    "\n",
    "# Grab the Shuffled Data and Split it\n",
    "file_train = file.iloc[idx[:n_train]]\n",
    "file_val = file.iloc[idx[n_train:n_train + n_val]]\n",
    "file_test = file.iloc[idx[n_train + n_val:]]\n",
    "print(\"Shuffled Size of Test: %d, Validate: %d, Train %d\" % (len(file_test), len(file_val), len(file_train)))\n",
    "\n",
    "# Reset the Indexes\n",
    "file_train = file_train.reset_index(drop=True)\n",
    "file_val = file_val.reset_index(drop=True)\n",
    "file_test = file_test.reset_index(drop=True)\n",
    "\n",
    "# Grab the logarithmic price and drop the final_price column\n",
    "# y_train = np.log1p(file_train.final_price.values)\n",
    "# y_val = np.log1p(file_val.final_price.values)\n",
    "# y_test = np.log1p(file_test.final_price.values)\n",
    "# del file_train['final_price']\n",
    "# del file_val['final_price']\n",
    "# del file_test['final_price']\n",
    "\n",
    "y_train = file_train.final_price.values\n",
    "y_val = file_val.final_price.values\n",
    "y_test = file_test.final_price.values"
   ],
   "id": "c5e65abf4d3860f5",
   "outputs": [
    {
     "name": "stdout",
     "output_type": "stream",
     "text": [
      "Size of Dataframe and data adding up:  2160 2160\n",
      "Size of Test:          432, Validate: 432, Train 1296\n",
      "Shuffled Size of Test: 432, Validate: 432, Train 1296\n"
     ]
    }
   ],
   "execution_count": 360
  },
  {
   "metadata": {
    "ExecuteTime": {
     "end_time": "2024-10-09T18:29:09.986300Z",
     "start_time": "2024-10-09T18:29:09.984490Z"
    }
   },
   "cell_type": "code",
   "source": [
    "def train_linear_regression(X, y):\n",
    "    ones = np.ones(X.shape[0])\n",
    "    X = np.column_stack((ones, X))\n",
    "    \n",
    "    XTX = X.T.dot(X)\n",
    "    XTX_inv = np.linalg.inv(XTX)\n",
    "    w_full = XTX_inv.dot(X.T).dot(y)\n",
    "    \n",
    "    return w_full[0], w_full[1:]"
   ],
   "id": "f5a9542da4fb17ed",
   "outputs": [],
   "execution_count": 361
  },
  {
   "metadata": {
    "ExecuteTime": {
     "end_time": "2024-10-09T18:29:10.033011Z",
     "start_time": "2024-10-09T18:29:10.030778Z"
    }
   },
   "cell_type": "code",
   "source": "file_train.screen.mean()",
   "id": "a734d7ebbe87ad92",
   "outputs": [
    {
     "data": {
      "text/plain": [
       "15.163534416086618"
      ]
     },
     "execution_count": 362,
     "metadata": {},
     "output_type": "execute_result"
    }
   ],
   "execution_count": 362
  },
  {
   "metadata": {
    "ExecuteTime": {
     "end_time": "2024-10-09T18:29:10.078424Z",
     "start_time": "2024-10-09T18:29:10.076703Z"
    }
   },
   "cell_type": "code",
   "source": [
    "def prepare_X(file):\n",
    "    file_num = file[base]\n",
    "    \n",
    "    ## Fill with Zeroes\n",
    "    file_num = file_num.fillna(0)\n",
    "    \n",
    "    ## Fill with Mean of screen\n",
    "    # file_num = file_num.fillna(file_train.screen.mean())\n",
    "    \n",
    "    X = file_num.values\n",
    "    return X"
   ],
   "id": "46eebdde8691da5e",
   "outputs": [],
   "execution_count": 363
  },
  {
   "metadata": {
    "ExecuteTime": {
     "end_time": "2024-10-09T18:29:10.122708Z",
     "start_time": "2024-10-09T18:29:10.120531Z"
    }
   },
   "cell_type": "code",
   "source": [
    "base = ['ram', 'storage', 'screen']\n",
    "X_train = prepare_X(file_train)\n",
    "w_0, w = train_linear_regression(X_train, y_train)\n",
    "y_pred = w_0 + X_train.dot(w)"
   ],
   "id": "786e446ebdbd14e1",
   "outputs": [],
   "execution_count": 364
  },
  {
   "metadata": {
    "ExecuteTime": {
     "end_time": "2024-10-09T18:29:10.265825Z",
     "start_time": "2024-10-09T18:29:10.166851Z"
    }
   },
   "cell_type": "code",
   "source": [
    "plt.figure(figsize=(6, 4))\n",
    "\n",
    "sns.histplot(y_train, label='target', color='red', alpha=1, bins=30)\n",
    "sns.histplot(y_pred, label='prediction', color='blue', alpha=1, bins=30)\n",
    "\n",
    "plt.legend()\n",
    "\n",
    "plt.ylabel('Frequency')\n",
    "plt.xlabel('Price')\n",
    "plt.title('Predictions vs actual distribution')\n",
    "\n",
    "plt.show()"
   ],
   "id": "3ac8a2ce0af658d4",
   "outputs": [
    {
     "data": {
      "text/plain": [
       "<Figure size 600x400 with 1 Axes>"
      ],
      "image/png": "[encoded data removed]"
     },
     "metadata": {},
     "output_type": "display_data"
    }
   ],
   "execution_count": 365
  },
  {
   "metadata": {
    "ExecuteTime": {
     "end_time": "2024-10-09T18:29:10.282964Z",
     "start_time": "2024-10-09T18:29:10.281547Z"
    }
   },
   "cell_type": "code",
   "source": [
    "def rmse(y, y_pred):\n",
    "    error = y_pred - y\n",
    "    mse = (error ** 2).mean()\n",
    "    return np.sqrt(mse)"
   ],
   "id": "d6baabe5266ee59e",
   "outputs": [],
   "execution_count": 366
  },
  {
   "metadata": {
    "ExecuteTime": {
     "end_time": "2024-10-09T18:29:10.328139Z",
     "start_time": "2024-10-09T18:29:10.326010Z"
    }
   },
   "cell_type": "code",
   "source": [
    "## Training RMSE\n",
    "round(rmse(y_train, y_pred),2)"
   ],
   "id": "b9d089308d098cec",
   "outputs": [
    {
     "data": {
      "text/plain": [
       "602.39"
      ]
     },
     "execution_count": 367,
     "metadata": {},
     "output_type": "execute_result"
    }
   ],
   "execution_count": 367
  },
  {
   "metadata": {
    "ExecuteTime": {
     "end_time": "2024-10-09T18:29:10.373440Z",
     "start_time": "2024-10-09T18:29:10.371319Z"
    }
   },
   "cell_type": "code",
   "source": [
    "X_val = prepare_X(file_val)\n",
    "y_pred = w_0 + X_val.dot(w)"
   ],
   "id": "4a9c67417f6f37b6",
   "outputs": [],
   "execution_count": 368
  },
  {
   "metadata": {
    "ExecuteTime": {
     "end_time": "2024-10-09T18:29:10.419761Z",
     "start_time": "2024-10-09T18:29:10.417616Z"
    }
   },
   "cell_type": "code",
   "source": [
    "## Validation RMSE\n",
    "round(rmse(y_val, y_pred), 2)"
   ],
   "id": "d23acf3f367639a8",
   "outputs": [
    {
     "data": {
      "text/plain": [
       "597.36"
      ]
     },
     "execution_count": 369,
     "metadata": {},
     "output_type": "execute_result"
    }
   ],
   "execution_count": 369
  },
  {
   "metadata": {},
   "cell_type": "markdown",
   "source": [
    "### Q3: Which option gives better RMSE?\n",
    "---\n",
    "\n",
    "    We need to deal with missing values for the column from Q1.\n",
    "    We have two options: fill it with 0 or with the mean of this variable.\n",
    "    Try both options. For each, train a linear regression model without regularization using the code from the lessons.\n",
    "    For computing the mean, use the training only!\n",
    "    Use the validation dataset to evaluate the models and compare the RMSE of each option.\n",
    "    Round the RMSE scores to 2 decimal digits using round(score, 2)\n",
    "    \n",
    "- Fill with Zeroes = 597.36\n",
    "- Fill with Mean = 600.27\n",
    "\n",
    "Which option gives better RMSE?    \n",
    "\n",
    "With Zeroes\n"
   ],
   "id": "820a769592d28a2b"
  },
  {
   "metadata": {
    "ExecuteTime": {
     "end_time": "2024-10-09T18:29:10.465111Z",
     "start_time": "2024-10-09T18:29:10.463082Z"
    }
   },
   "cell_type": "code",
   "source": [
    "def train_linear_regression_reg(X, y, r):\n",
    "    ones = np.ones(X.shape[0])\n",
    "    X = np.column_stack((ones, X))\n",
    "    \n",
    "    XTX = X.T.dot(X)\n",
    "    XTX = XTX + r * np.eye(XTX.shape[0])\n",
    "    \n",
    "    XTX_inv = np.linalg.inv(XTX)\n",
    "    w_full = XTX_inv.dot(X.T).dot(y)\n",
    "    \n",
    "    return w_full[0], w_full[1:]"
   ],
   "id": "46b4f6444710b16e",
   "outputs": [],
   "execution_count": 370
  },
  {
   "metadata": {
    "ExecuteTime": {
     "end_time": "2024-10-09T18:29:10.511344Z",
     "start_time": "2024-10-09T18:29:10.508208Z"
    }
   },
   "cell_type": "code",
   "source": [
    "X_train = prepare_X(file_train)\n",
    "w_0, w = train_linear_regression_reg(X_train, y_train, 0.01)\n",
    "\n",
    "## Validation RMSE\n",
    "X_val = prepare_X(file_val)\n",
    "y_pred = w_0 + X_val.dot(w)\n",
    "round(rmse(y_val, y_pred), 2)"
   ],
   "id": "44cb35b9ff57909b",
   "outputs": [
    {
     "data": {
      "text/plain": [
       "597.36"
      ]
     },
     "execution_count": 371,
     "metadata": {},
     "output_type": "execute_result"
    }
   ],
   "execution_count": 371
  },
  {
   "metadata": {
    "ExecuteTime": {
     "end_time": "2024-10-09T18:29:10.562491Z",
     "start_time": "2024-10-09T18:29:10.558638Z"
    }
   },
   "cell_type": "code",
   "source": [
    "r_list = [0, 0.01, 1, 10, 100]\n",
    "for r in r_list:\n",
    "    w_0, w = train_linear_regression_reg(X_train, y_train, r)\n",
    "    X_val = prepare_X(file_val)\n",
    "    y_pred = w_0 + X_val.dot(w)\n",
    "    print(\"R=%.2f \\tRMSE = %.2f\" % (r, round(rmse(y_val, y_pred), 2)))\n",
    "    "
   ],
   "id": "405fb610f6390dd",
   "outputs": [
    {
     "name": "stdout",
     "output_type": "stream",
     "text": [
      "R=0.00 \tRMSE = 597.36\n",
      "R=0.01 \tRMSE = 597.36\n",
      "R=1.00 \tRMSE = 597.21\n",
      "R=10.00 \tRMSE = 597.06\n",
      "R=100.00 \tRMSE = 597.90\n"
     ]
    }
   ],
   "execution_count": 372
  },
  {
   "metadata": {},
   "cell_type": "markdown",
   "source": [
    "### Q4: Which r gives the best RMSE?\n",
    "---\n",
    "\n",
    "    Now let's train a regularized linear regression.\n",
    "    For this question, fill the NAs with 0.\n",
    "    Try different values of r from this list: [0, 0.01, 0.1, 1, 5, 10, 100].\n",
    "    Use RMSE to evaluate the model on the validation dataset.\n",
    "    Round the RMSE scores to 2 decimal digits.\n",
    "    Which r gives the best RMSE?\n",
    "\n",
    "If there are multiple options, select the smallest r.\n",
    "\n",
    "Options:\n",
    "\n",
    "10 has the lowest from the options presented as choices.\n"
   ],
   "id": "ecc93b7b7132ed69"
  },
  {
   "metadata": {
    "ExecuteTime": {
     "end_time": "2024-10-09T18:29:10.618646Z",
     "start_time": "2024-10-09T18:29:10.604486Z"
    }
   },
   "cell_type": "code",
   "source": [
    "rmse_list = []\n",
    "seed_list = [0, 1, 2, 3, 4, 5, 6, 7, 8, 9]\n",
    "for seed in seed_list:\n",
    "    n = len(file)\n",
    "    n_val = int(n * 0.2)\n",
    "    n_test = int(n * 0.2)\n",
    "    n_train = n - n_val - n_test\n",
    "    \n",
    "    # Create shuffled indexes\n",
    "    idx = np.arange(n)\n",
    "    np.random.seed(seed)\n",
    "    np.random.shuffle(idx)\n",
    "    idx\n",
    "    \n",
    "    \n",
    "    # Grab the Shuffled Data and Split it\n",
    "    file_train = file.iloc[idx[:n_train]]\n",
    "    file_val = file.iloc[idx[n_train:n_train + n_val]]\n",
    "    file_test = file.iloc[idx[n_train + n_val:]]\n",
    "    \n",
    "    # Reset the Indexes\n",
    "    file_train = file_train.reset_index(drop=True)\n",
    "    file_val = file_val.reset_index(drop=True)\n",
    "    file_test = file_test.reset_index(drop=True)\n",
    "    \n",
    "    # Grab the logarithmic price and drop the final_price column\n",
    "    # y_train = np.log1p(file_train.final_price.values)\n",
    "    # y_val = np.log1p(file_val.final_price.values)\n",
    "    # y_test = np.log1p(file_test.final_price.values)\n",
    "    # del file_train['final_price']\n",
    "    # del file_val['final_price']\n",
    "    # del file_test['final_price']\n",
    "    \n",
    "    y_train = file_train.final_price.values\n",
    "    y_val = file_val.final_price.values\n",
    "    y_test = file_test.final_price.values\n",
    "\n",
    "    X_train = prepare_X(file_train)\n",
    "    w_0, w = train_linear_regression(X_train, y_train)\n",
    "    X_val = prepare_X(file_val)\n",
    "    y_pred = w_0 + X_val.dot(w)\n",
    "    rmse_list.append(rmse(y_val, y_pred))\n",
    "    # print(\"Seed=%d \\tRMSE = %.2f\" % (seed, round(rmse(y_val, y_pred), 2)))"
   ],
   "id": "ec7a462ef9c6de96",
   "outputs": [],
   "execution_count": 373
  },
  {
   "metadata": {
    "ExecuteTime": {
     "end_time": "2024-10-09T18:29:10.654235Z",
     "start_time": "2024-10-09T18:29:10.652237Z"
    }
   },
   "cell_type": "code",
   "source": "np.std(rmse_list).round(3)",
   "id": "5ab9319f117750df",
   "outputs": [
    {
     "data": {
      "text/plain": [
       "29.176"
      ]
     },
     "execution_count": 374,
     "metadata": {},
     "output_type": "execute_result"
    }
   ],
   "execution_count": 374
  },
  {
   "metadata": {},
   "cell_type": "markdown",
   "source": [
    "### Q5: What's the value of std?\n",
    "---\n",
    "\n",
    "    We used seed 42 for splitting the data. Let's find out how selecting the seed influences our score.\n",
    "    Try different seed values: [0, 1, 2, 3, 4, 5, 6, 7, 8, 9].\n",
    "    For each seed, do the train/validation/test split with 60%/20%/20% distribution.\n",
    "    Fill the missing values with 0 and train a model without regularization.\n",
    "    For each seed, evaluate the model on the validation dataset and collect the RMSE scores.\n",
    "    What's the standard deviation of all the scores? To compute the standard deviation, use np.std.\n",
    "    Round the result to 3 decimal digits (round(std, 3))\n",
    "\n",
    "What's the value of std?\n",
    "\n",
    "    29.176\n",
    "\n",
    "    Note: Standard deviation shows how different the values are. If it's low, then all values are approximately the same. If it's high, the values are different. If standard deviation of scores is low, then our model is stable.\n"
   ],
   "id": "590035d722362eb1"
  },
  {
   "metadata": {
    "ExecuteTime": {
     "end_time": "2024-10-09T18:29:10.704937Z",
     "start_time": "2024-10-09T18:29:10.700001Z"
    }
   },
   "cell_type": "code",
   "source": [
    "n = len(file)\n",
    "n_val = int(n * 0.2)\n",
    "n_test = int(n * 0.2)\n",
    "n_train = n - n_val - n_test\n",
    "\n",
    "# Create shuffled indexes\n",
    "idx = np.arange(n)\n",
    "np.random.seed(9)\n",
    "np.random.shuffle(idx)\n",
    "\n",
    "\n",
    "# Grab the Shuffled Data and Split it\n",
    "file_train = file.iloc[idx[:n_train + n_val]]\n",
    "file_test = file.iloc[idx[n_train + n_val:]]\n",
    "\n",
    "print(\"Size of Dataframe and data adding up: \", n, n_val+n_test+n_train)\n",
    "print(\"Size of Test:          %d, Train %d\" % (len(file_test), len(file_train)))\n",
    "print()\n",
    "\n",
    "# Reset the Indexes\n",
    "file_train = file_train.reset_index(drop=True)\n",
    "file_test = file_test.reset_index(drop=True)\n",
    "\n",
    "y_train = file_train.final_price.values\n",
    "y_test = file_test.final_price.values\n",
    "\n",
    "X_train = prepare_X(file_train)\n",
    "w_0, w = train_linear_regression_reg(X_train, y_train, 0.001)\n",
    "X_test = prepare_X(file_test)\n",
    "y_pred = w_0 + X_test.dot(w)\n",
    "print(\"Seed=%d \\tRMSE = %.2f\" % (seed, round(rmse(y_test, y_pred), 2)))"
   ],
   "id": "1c380ea3ca57fb20",
   "outputs": [
    {
     "name": "stdout",
     "output_type": "stream",
     "text": [
      "Size of Dataframe and data adding up:  2160 2160\n",
      "Size of Test:          432, Train 1728\n",
      "\n",
      "Seed=9 \tRMSE = 608.61\n"
     ]
    }
   ],
   "execution_count": 375
  },
  {
   "metadata": {},
   "cell_type": "markdown",
   "source": [
    "### Q6: What's the RMSE on the test dataset?\n",
    "---\n",
    "\n",
    "    Split the dataset like previously, use seed 9.\n",
    "    Combine train and validation datasets.\n",
    "    Fill the missing values with 0 and train a model with r=0.001.\n",
    "    What's the RMSE on the test dataset?\n",
    "\n",
    "Options:\n",
    "    608.60\n"
   ],
   "id": "95fdd9da4ca01983"
  }
 ],
 "metadata": {
  "kernelspec": {
   "display_name": "Python 3 (ipykernel)",
   "language": "python",
   "name": "python3"
  },
  "language_info": {
   "codemirror_mode": {
    "name": "ipython",
    "version": 3
   },
   "file_extension": ".py",
   "mimetype": "text/x-python",
   "name": "python",
   "nbconvert_exporter": "python",
   "pygments_lexer": "ipython3",
   "version": "3.11.9"
  }
 },
 "nbformat": 4,
 "nbformat_minor": 5
}
